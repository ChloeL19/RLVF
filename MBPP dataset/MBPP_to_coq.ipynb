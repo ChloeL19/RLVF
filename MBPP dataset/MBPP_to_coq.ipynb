{
 "cells": [
  {
   "cell_type": "code",
   "execution_count": 1,
   "metadata": {},
   "outputs": [
    {
     "data": {
      "application/vnd.jupyter.widget-view+json": {
       "model_id": "b37d4d14a9dc4a0d87772c33ab9574f5",
       "version_major": 2,
       "version_minor": 0
      },
      "text/plain": [
       "Downloading builder script:   0%|          | 0.00/5.45k [00:00<?, ?B/s]"
      ]
     },
     "metadata": {},
     "output_type": "display_data"
    },
    {
     "data": {
      "application/vnd.jupyter.widget-view+json": {
       "model_id": "9e2d8dcdf3ca4ce3836a38d8585a99ea",
       "version_major": 2,
       "version_minor": 0
      },
      "text/plain": [
       "Downloading metadata:   0%|          | 0.00/4.73k [00:00<?, ?B/s]"
      ]
     },
     "metadata": {},
     "output_type": "display_data"
    },
    {
     "data": {
      "application/vnd.jupyter.widget-view+json": {
       "model_id": "0fd2aa6ceb804b37911ad4477f7d6593",
       "version_major": 2,
       "version_minor": 0
      },
      "text/plain": [
       "Downloading readme:   0%|          | 0.00/8.60k [00:00<?, ?B/s]"
      ]
     },
     "metadata": {},
     "output_type": "display_data"
    },
    {
     "name": "stderr",
     "output_type": "stream",
     "text": [
      "No config specified, defaulting to: mbpp/full\n"
     ]
    },
    {
     "name": "stdout",
     "output_type": "stream",
     "text": [
      "Downloading and preparing dataset mbpp/full to /home/chloe/.cache/huggingface/datasets/mbpp/full/1.0.2/4458a31cd4305553c8e88e3f0bfb94fc74fe1a9faeeb8c32ed166939735eaeff...\n"
     ]
    },
    {
     "data": {
      "application/vnd.jupyter.widget-view+json": {
       "model_id": "a9c1dbec271f423396efbd9cee8eb887",
       "version_major": 2,
       "version_minor": 0
      },
      "text/plain": [
       "Downloading data:   0%|          | 0.00/131k [00:00<?, ?B/s]"
      ]
     },
     "metadata": {},
     "output_type": "display_data"
    },
    {
     "data": {
      "application/vnd.jupyter.widget-view+json": {
       "model_id": "469313da505c40fc8ac7ee7f2f622a10",
       "version_major": 2,
       "version_minor": 0
      },
      "text/plain": [
       "Generating train split:   0%|          | 0/374 [00:00<?, ? examples/s]"
      ]
     },
     "metadata": {},
     "output_type": "display_data"
    },
    {
     "data": {
      "application/vnd.jupyter.widget-view+json": {
       "model_id": "5e6fccff202940f8be6bff8daa5205b9",
       "version_major": 2,
       "version_minor": 0
      },
      "text/plain": [
       "Generating test split:   0%|          | 0/500 [00:00<?, ? examples/s]"
      ]
     },
     "metadata": {},
     "output_type": "display_data"
    },
    {
     "data": {
      "application/vnd.jupyter.widget-view+json": {
       "model_id": "1dadd78f444a4c2eb2f6c8de91b13f6e",
       "version_major": 2,
       "version_minor": 0
      },
      "text/plain": [
       "Generating validation split:   0%|          | 0/90 [00:00<?, ? examples/s]"
      ]
     },
     "metadata": {},
     "output_type": "display_data"
    },
    {
     "data": {
      "application/vnd.jupyter.widget-view+json": {
       "model_id": "0b23c2442247473fabc70eac408a7e59",
       "version_major": 2,
       "version_minor": 0
      },
      "text/plain": [
       "Generating prompt split:   0%|          | 0/10 [00:00<?, ? examples/s]"
      ]
     },
     "metadata": {},
     "output_type": "display_data"
    },
    {
     "name": "stdout",
     "output_type": "stream",
     "text": [
      "Dataset mbpp downloaded and prepared to /home/chloe/.cache/huggingface/datasets/mbpp/full/1.0.2/4458a31cd4305553c8e88e3f0bfb94fc74fe1a9faeeb8c32ed166939735eaeff. Subsequent calls will reuse this data.\n"
     ]
    },
    {
     "data": {
      "application/vnd.jupyter.widget-view+json": {
       "model_id": "5e76ff0f717a499e84582ef4d1553b1f",
       "version_major": 2,
       "version_minor": 0
      },
      "text/plain": [
       "  0%|          | 0/4 [00:00<?, ?it/s]"
      ]
     },
     "metadata": {},
     "output_type": "display_data"
    }
   ],
   "source": [
    "from datasets import load_dataset\n",
    "import pandas as pd\n",
    "mbpp = load_dataset(\"mbpp\")"
   ]
  },
  {
   "cell_type": "code",
   "execution_count": 3,
   "metadata": {},
   "outputs": [
    {
     "data": {
      "text/plain": [
       "DatasetDict({\n",
       "    train: Dataset({\n",
       "        features: ['task_id', 'text', 'code', 'test_list', 'test_setup_code', 'challenge_test_list'],\n",
       "        num_rows: 374\n",
       "    })\n",
       "    test: Dataset({\n",
       "        features: ['task_id', 'text', 'code', 'test_list', 'test_setup_code', 'challenge_test_list'],\n",
       "        num_rows: 500\n",
       "    })\n",
       "    validation: Dataset({\n",
       "        features: ['task_id', 'text', 'code', 'test_list', 'test_setup_code', 'challenge_test_list'],\n",
       "        num_rows: 90\n",
       "    })\n",
       "    prompt: Dataset({\n",
       "        features: ['task_id', 'text', 'code', 'test_list', 'test_setup_code', 'challenge_test_list'],\n",
       "        num_rows: 10\n",
       "    })\n",
       "})"
      ]
     },
     "execution_count": 3,
     "metadata": {},
     "output_type": "execute_result"
    }
   ],
   "source": [
    "mbpp"
   ]
  },
  {
   "cell_type": "code",
   "execution_count": 4,
   "metadata": {},
   "outputs": [
    {
     "data": {
      "text/html": [
       "<div>\n",
       "<style scoped>\n",
       "    .dataframe tbody tr th:only-of-type {\n",
       "        vertical-align: middle;\n",
       "    }\n",
       "\n",
       "    .dataframe tbody tr th {\n",
       "        vertical-align: top;\n",
       "    }\n",
       "\n",
       "    .dataframe thead th {\n",
       "        text-align: right;\n",
       "    }\n",
       "</style>\n",
       "<table border=\"1\" class=\"dataframe\">\n",
       "  <thead>\n",
       "    <tr style=\"text-align: right;\">\n",
       "      <th></th>\n",
       "      <th>task_id</th>\n",
       "      <th>text</th>\n",
       "      <th>code</th>\n",
       "      <th>test_list</th>\n",
       "      <th>test_setup_code</th>\n",
       "      <th>challenge_test_list</th>\n",
       "    </tr>\n",
       "  </thead>\n",
       "  <tbody>\n",
       "    <tr>\n",
       "      <th>0</th>\n",
       "      <td>601</td>\n",
       "      <td>Write a function to find the longest chain whi...</td>\n",
       "      <td>class Pair(object): \\r\\n\\tdef __init__(self, a...</td>\n",
       "      <td>[assert max_chain_length([Pair(5, 24), Pair(15...</td>\n",
       "      <td></td>\n",
       "      <td>[]</td>\n",
       "    </tr>\n",
       "    <tr>\n",
       "      <th>1</th>\n",
       "      <td>602</td>\n",
       "      <td>Write a python function to find the first repe...</td>\n",
       "      <td>def first_repeated_char(str1):\\r\\n  for index,...</td>\n",
       "      <td>[assert first_repeated_char(\"abcabc\") == \"a\", ...</td>\n",
       "      <td></td>\n",
       "      <td>[]</td>\n",
       "    </tr>\n",
       "    <tr>\n",
       "      <th>2</th>\n",
       "      <td>603</td>\n",
       "      <td>Write a function to get a lucid number smaller...</td>\n",
       "      <td>def get_ludic(n):\\r\\n\\tludics = []\\r\\n\\tfor i ...</td>\n",
       "      <td>[assert get_ludic(10) == [1, 2, 3, 5, 7], asse...</td>\n",
       "      <td></td>\n",
       "      <td>[]</td>\n",
       "    </tr>\n",
       "    <tr>\n",
       "      <th>3</th>\n",
       "      <td>604</td>\n",
       "      <td>Write a function to reverse words in a given s...</td>\n",
       "      <td>def reverse_words(s):\\r\\n        return ' '.jo...</td>\n",
       "      <td>[assert reverse_words(\"python program\")==(\"pro...</td>\n",
       "      <td></td>\n",
       "      <td>[]</td>\n",
       "    </tr>\n",
       "    <tr>\n",
       "      <th>4</th>\n",
       "      <td>605</td>\n",
       "      <td>Write a function to check if the given integer...</td>\n",
       "      <td>def prime_num(num):\\r\\n  if num &gt;=1:\\r\\n   for...</td>\n",
       "      <td>[assert prime_num(13)==True, assert prime_num(...</td>\n",
       "      <td></td>\n",
       "      <td>[]</td>\n",
       "    </tr>\n",
       "  </tbody>\n",
       "</table>\n",
       "</div>"
      ],
      "text/plain": [
       "   task_id                                               text   \n",
       "0      601  Write a function to find the longest chain whi...  \\\n",
       "1      602  Write a python function to find the first repe...   \n",
       "2      603  Write a function to get a lucid number smaller...   \n",
       "3      604  Write a function to reverse words in a given s...   \n",
       "4      605  Write a function to check if the given integer...   \n",
       "\n",
       "                                                code   \n",
       "0  class Pair(object): \\r\\n\\tdef __init__(self, a...  \\\n",
       "1  def first_repeated_char(str1):\\r\\n  for index,...   \n",
       "2  def get_ludic(n):\\r\\n\\tludics = []\\r\\n\\tfor i ...   \n",
       "3  def reverse_words(s):\\r\\n        return ' '.jo...   \n",
       "4  def prime_num(num):\\r\\n  if num >=1:\\r\\n   for...   \n",
       "\n",
       "                                           test_list test_setup_code   \n",
       "0  [assert max_chain_length([Pair(5, 24), Pair(15...                  \\\n",
       "1  [assert first_repeated_char(\"abcabc\") == \"a\", ...                   \n",
       "2  [assert get_ludic(10) == [1, 2, 3, 5, 7], asse...                   \n",
       "3  [assert reverse_words(\"python program\")==(\"pro...                   \n",
       "4  [assert prime_num(13)==True, assert prime_num(...                   \n",
       "\n",
       "  challenge_test_list  \n",
       "0                  []  \n",
       "1                  []  \n",
       "2                  []  \n",
       "3                  []  \n",
       "4                  []  "
      ]
     },
     "execution_count": 4,
     "metadata": {},
     "output_type": "execute_result"
    }
   ],
   "source": [
    "mbpp_train_df = pd.DataFrame(mbpp[\"train\"])\n",
    "mbpp_train_df.head()"
   ]
  },
  {
   "cell_type": "code",
   "execution_count": 18,
   "metadata": {},
   "outputs": [
    {
     "name": "stdout",
     "output_type": "stream",
     "text": [
      "Write a function to find the largest integers from a given list of numbers using heap queue algorithm.\n",
      "['assert find_Volume(10,8,6) == 240', 'assert find_Volume(3,2,2) == 6', 'assert find_Volume(1,2,1) == 1']\n"
     ]
    }
   ],
   "source": [
    "mbpp_prompt_df = pd.DataFrame(mbpp[\"prompt\"])\n",
    "mbpp_test_df = pd.DataFrame(mbpp[\"test\"])\n",
    "print(mbpp_prompt_df.iloc[3]['text'])\n",
    "print(mbpp_test_df.iloc[3]['test_list'])"
   ]
  },
  {
   "cell_type": "code",
   "execution_count": 19,
   "metadata": {},
   "outputs": [
    {
     "data": {
      "text/plain": [
       "3"
      ]
     },
     "execution_count": 19,
     "metadata": {},
     "output_type": "execute_result"
    }
   ],
   "source": [
    "max_list_length = mbpp_test_df['test_list'].apply(len).max()\n",
    "max_list_length"
   ]
  },
  {
   "cell_type": "code",
   "execution_count": 20,
   "metadata": {},
   "outputs": [
    {
     "data": {
      "text/html": [
       "<div>\n",
       "<style scoped>\n",
       "    .dataframe tbody tr th:only-of-type {\n",
       "        vertical-align: middle;\n",
       "    }\n",
       "\n",
       "    .dataframe tbody tr th {\n",
       "        vertical-align: top;\n",
       "    }\n",
       "\n",
       "    .dataframe thead th {\n",
       "        text-align: right;\n",
       "    }\n",
       "</style>\n",
       "<table border=\"1\" class=\"dataframe\">\n",
       "  <thead>\n",
       "    <tr style=\"text-align: right;\">\n",
       "      <th></th>\n",
       "      <th>specification</th>\n",
       "      <th>test_case_1</th>\n",
       "      <th>test_case_2</th>\n",
       "      <th>test_case_3</th>\n",
       "    </tr>\n",
       "  </thead>\n",
       "  <tbody>\n",
       "    <tr>\n",
       "      <th>0</th>\n",
       "      <td>Write a python function to remove first and la...</td>\n",
       "      <td>remove_Occ(\"hello\",\"l\") == \"heo\"</td>\n",
       "      <td>remove_Occ(\"abcda\",\"a\") == \"bcd\"</td>\n",
       "      <td>remove_Occ(\"PHP\",\"P\") == \"H\"</td>\n",
       "    </tr>\n",
       "    <tr>\n",
       "      <th>1</th>\n",
       "      <td>Write a function to sort a given matrix in asc...</td>\n",
       "      <td>sort_matrix([[1, 2, 3], [2, 4, 5], [1, 1, 1]])...</td>\n",
       "      <td>sort_matrix([[1, 2, 3], [-2, 4, -5], [1, -1, 1...</td>\n",
       "      <td>sort_matrix([[5,8,9],[6,4,3],[2,1,4]])==[[2, 1...</td>\n",
       "    </tr>\n",
       "    <tr>\n",
       "      <th>2</th>\n",
       "      <td>Write a function to count the most common word...</td>\n",
       "      <td>count_common(['red','green','black','pink','bl...</td>\n",
       "      <td>count_common(['one', 'two', 'three', 'four', '...</td>\n",
       "      <td>count_common(['Facebook', 'Apple', 'Amazon', '...</td>\n",
       "    </tr>\n",
       "    <tr>\n",
       "      <th>3</th>\n",
       "      <td>Write a python function to find the volume of ...</td>\n",
       "      <td>find_Volume(10,8,6) == 240</td>\n",
       "      <td>find_Volume(3,2,2) == 6</td>\n",
       "      <td>find_Volume(1,2,1) == 1</td>\n",
       "    </tr>\n",
       "    <tr>\n",
       "      <th>4</th>\n",
       "      <td>Write a function to split a string at lowercas...</td>\n",
       "      <td>split_lowerstring(\"AbCd\")==['bC','d']</td>\n",
       "      <td>split_lowerstring(\"Python\")==['y', 't', 'h', '...</td>\n",
       "      <td>split_lowerstring(\"Programming\")==['r', 'o', '...</td>\n",
       "    </tr>\n",
       "  </tbody>\n",
       "</table>\n",
       "</div>"
      ],
      "text/plain": [
       "                                       specification   \n",
       "0  Write a python function to remove first and la...  \\\n",
       "1  Write a function to sort a given matrix in asc...   \n",
       "2  Write a function to count the most common word...   \n",
       "3  Write a python function to find the volume of ...   \n",
       "4  Write a function to split a string at lowercas...   \n",
       "\n",
       "                                         test_case_1   \n",
       "0                   remove_Occ(\"hello\",\"l\") == \"heo\"  \\\n",
       "1  sort_matrix([[1, 2, 3], [2, 4, 5], [1, 1, 1]])...   \n",
       "2  count_common(['red','green','black','pink','bl...   \n",
       "3                         find_Volume(10,8,6) == 240   \n",
       "4              split_lowerstring(\"AbCd\")==['bC','d']   \n",
       "\n",
       "                                         test_case_2   \n",
       "0                   remove_Occ(\"abcda\",\"a\") == \"bcd\"  \\\n",
       "1  sort_matrix([[1, 2, 3], [-2, 4, -5], [1, -1, 1...   \n",
       "2  count_common(['one', 'two', 'three', 'four', '...   \n",
       "3                            find_Volume(3,2,2) == 6   \n",
       "4  split_lowerstring(\"Python\")==['y', 't', 'h', '...   \n",
       "\n",
       "                                         test_case_3  \n",
       "0                       remove_Occ(\"PHP\",\"P\") == \"H\"  \n",
       "1  sort_matrix([[5,8,9],[6,4,3],[2,1,4]])==[[2, 1...  \n",
       "2  count_common(['Facebook', 'Apple', 'Amazon', '...  \n",
       "3                            find_Volume(1,2,1) == 1  \n",
       "4  split_lowerstring(\"Programming\")==['r', 'o', '...  "
      ]
     },
     "execution_count": 20,
     "metadata": {},
     "output_type": "execute_result"
    }
   ],
   "source": [
    "# format the test df such that it uses the same format as the coqllm dataset\n",
    "mbpp_test_df[['test_case_1', 'test_case_2', 'test_case_3']] = mbpp_test_df['test_list'].apply(\n",
    "    lambda x: pd.Series(x[:3] + [None] * max(0, 3 - len(x)))\n",
    ")\n",
    "mbpp_test_coq = mbpp_test_df[['text', 'test_case_1', 'test_case_2', 'test_case_3']]\n",
    "mbpp_test_coq = mbpp_test_coq.rename(columns={'text': 'specification'})\n",
    "# remove \"assert\" statements from the test cases\n",
    "test_case_columns = ['test_case_1', 'test_case_2', 'test_case_3']\n",
    "def remove_asserts(text):\n",
    "    if text is None:\n",
    "        return None\n",
    "    return text.replace('assert ', '')\n",
    "def fix_equals(text):\n",
    "    if text is None:\n",
    "        return None\n",
    "    return text.replace('==', '=')\n",
    "\n",
    "mbpp_test_coq[test_case_columns] = mbpp_test_coq[test_case_columns].applymap(remove_asserts)\n",
    "mbpp_test_coq[test_case_columns] = mbpp_test_coq[test_case_columns].applymap(fix_equals)\n",
    "\n",
    "mbpp_test_coq.head()\n"
   ]
  },
  {
   "cell_type": "code",
   "execution_count": null,
   "metadata": {},
   "outputs": [],
   "source": []
  }
 ],
 "metadata": {
  "kernelspec": {
   "display_name": "python3.9",
   "language": "python",
   "name": "python3"
  },
  "language_info": {
   "codemirror_mode": {
    "name": "ipython",
    "version": 3
   },
   "file_extension": ".py",
   "mimetype": "text/x-python",
   "name": "python",
   "nbconvert_exporter": "python",
   "pygments_lexer": "ipython3",
   "version": "3.9.16"
  },
  "orig_nbformat": 4
 },
 "nbformat": 4,
 "nbformat_minor": 2
}
