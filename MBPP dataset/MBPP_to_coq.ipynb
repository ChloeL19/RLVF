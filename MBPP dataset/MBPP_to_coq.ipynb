{
 "cells": [
  {
   "cell_type": "code",
   "execution_count": 1,
   "metadata": {},
   "outputs": [
    {
     "name": "stderr",
     "output_type": "stream",
     "text": [
      "No config specified, defaulting to: mbpp/full\n",
      "Found cached dataset mbpp (/home/chloe/.cache/huggingface/datasets/mbpp/full/1.0.2/4458a31cd4305553c8e88e3f0bfb94fc74fe1a9faeeb8c32ed166939735eaeff)\n"
     ]
    },
    {
     "data": {
      "application/vnd.jupyter.widget-view+json": {
       "model_id": "c8b06254d7b94435987257d9032df473",
       "version_major": 2,
       "version_minor": 0
      },
      "text/plain": [
       "  0%|          | 0/4 [00:00<?, ?it/s]"
      ]
     },
     "metadata": {},
     "output_type": "display_data"
    }
   ],
   "source": [
    "from datasets import load_dataset\n",
    "import pandas as pd\n",
    "mbpp = load_dataset(\"mbpp\")"
   ]
  },
  {
   "cell_type": "code",
   "execution_count": 2,
   "metadata": {},
   "outputs": [
    {
     "data": {
      "text/html": [
       "<div>\n",
       "<style scoped>\n",
       "    .dataframe tbody tr th:only-of-type {\n",
       "        vertical-align: middle;\n",
       "    }\n",
       "\n",
       "    .dataframe tbody tr th {\n",
       "        vertical-align: top;\n",
       "    }\n",
       "\n",
       "    .dataframe thead th {\n",
       "        text-align: right;\n",
       "    }\n",
       "</style>\n",
       "<table border=\"1\" class=\"dataframe\">\n",
       "  <thead>\n",
       "    <tr style=\"text-align: right;\">\n",
       "      <th></th>\n",
       "      <th>task_id</th>\n",
       "    </tr>\n",
       "  </thead>\n",
       "  <tbody>\n",
       "    <tr>\n",
       "      <th>count</th>\n",
       "      <td>374.000000</td>\n",
       "    </tr>\n",
       "    <tr>\n",
       "      <th>mean</th>\n",
       "      <td>787.500000</td>\n",
       "    </tr>\n",
       "    <tr>\n",
       "      <th>std</th>\n",
       "      <td>108.108742</td>\n",
       "    </tr>\n",
       "    <tr>\n",
       "      <th>min</th>\n",
       "      <td>601.000000</td>\n",
       "    </tr>\n",
       "    <tr>\n",
       "      <th>25%</th>\n",
       "      <td>694.250000</td>\n",
       "    </tr>\n",
       "    <tr>\n",
       "      <th>50%</th>\n",
       "      <td>787.500000</td>\n",
       "    </tr>\n",
       "    <tr>\n",
       "      <th>75%</th>\n",
       "      <td>880.750000</td>\n",
       "    </tr>\n",
       "    <tr>\n",
       "      <th>max</th>\n",
       "      <td>974.000000</td>\n",
       "    </tr>\n",
       "  </tbody>\n",
       "</table>\n",
       "</div>"
      ],
      "text/plain": [
       "          task_id\n",
       "count  374.000000\n",
       "mean   787.500000\n",
       "std    108.108742\n",
       "min    601.000000\n",
       "25%    694.250000\n",
       "50%    787.500000\n",
       "75%    880.750000\n",
       "max    974.000000"
      ]
     },
     "execution_count": 2,
     "metadata": {},
     "output_type": "execute_result"
    }
   ],
   "source": [
    "mbpp_train_df = pd.DataFrame(mbpp[\"train\"])\n",
    "mbpp_train_df.describe()"
   ]
  },
  {
   "cell_type": "code",
   "execution_count": 4,
   "metadata": {},
   "outputs": [
    {
     "name": "stdout",
     "output_type": "stream",
     "text": [
      "Write a function to find the largest integers from a given list of numbers using heap queue algorithm.\n",
      "['assert find_Volume(10,8,6) == 240', 'assert find_Volume(3,2,2) == 6', 'assert find_Volume(1,2,1) == 1']\n"
     ]
    }
   ],
   "source": [
    "mbpp_prompt_df = pd.DataFrame(mbpp[\"prompt\"])\n",
    "mbpp_test_df = pd.DataFrame(mbpp[\"test\"])\n",
    "print(mbpp_prompt_df.iloc[3]['text'])\n",
    "print(mbpp_test_df.iloc[3]['test_list'])"
   ]
  },
  {
   "cell_type": "code",
   "execution_count": 5,
   "metadata": {},
   "outputs": [
    {
     "data": {
      "text/html": [
       "<div>\n",
       "<style scoped>\n",
       "    .dataframe tbody tr th:only-of-type {\n",
       "        vertical-align: middle;\n",
       "    }\n",
       "\n",
       "    .dataframe tbody tr th {\n",
       "        vertical-align: top;\n",
       "    }\n",
       "\n",
       "    .dataframe thead th {\n",
       "        text-align: right;\n",
       "    }\n",
       "</style>\n",
       "<table border=\"1\" class=\"dataframe\">\n",
       "  <thead>\n",
       "    <tr style=\"text-align: right;\">\n",
       "      <th></th>\n",
       "      <th>task_id</th>\n",
       "    </tr>\n",
       "  </thead>\n",
       "  <tbody>\n",
       "    <tr>\n",
       "      <th>count</th>\n",
       "      <td>500.000000</td>\n",
       "    </tr>\n",
       "    <tr>\n",
       "      <th>mean</th>\n",
       "      <td>260.500000</td>\n",
       "    </tr>\n",
       "    <tr>\n",
       "      <th>std</th>\n",
       "      <td>144.481833</td>\n",
       "    </tr>\n",
       "    <tr>\n",
       "      <th>min</th>\n",
       "      <td>11.000000</td>\n",
       "    </tr>\n",
       "    <tr>\n",
       "      <th>25%</th>\n",
       "      <td>135.750000</td>\n",
       "    </tr>\n",
       "    <tr>\n",
       "      <th>50%</th>\n",
       "      <td>260.500000</td>\n",
       "    </tr>\n",
       "    <tr>\n",
       "      <th>75%</th>\n",
       "      <td>385.250000</td>\n",
       "    </tr>\n",
       "    <tr>\n",
       "      <th>max</th>\n",
       "      <td>510.000000</td>\n",
       "    </tr>\n",
       "  </tbody>\n",
       "</table>\n",
       "</div>"
      ],
      "text/plain": [
       "          task_id\n",
       "count  500.000000\n",
       "mean   260.500000\n",
       "std    144.481833\n",
       "min     11.000000\n",
       "25%    135.750000\n",
       "50%    260.500000\n",
       "75%    385.250000\n",
       "max    510.000000"
      ]
     },
     "execution_count": 5,
     "metadata": {},
     "output_type": "execute_result"
    }
   ],
   "source": [
    "mbpp_test_df.describe()"
   ]
  },
  {
   "cell_type": "code",
   "execution_count": 19,
   "metadata": {},
   "outputs": [
    {
     "data": {
      "text/plain": [
       "3"
      ]
     },
     "execution_count": 19,
     "metadata": {},
     "output_type": "execute_result"
    }
   ],
   "source": [
    "max_list_length = mbpp_test_df['test_list'].apply(len).max()\n",
    "max_list_length"
   ]
  },
  {
   "cell_type": "code",
   "execution_count": 24,
   "metadata": {},
   "outputs": [
    {
     "data": {
      "text/html": [
       "<div>\n",
       "<style scoped>\n",
       "    .dataframe tbody tr th:only-of-type {\n",
       "        vertical-align: middle;\n",
       "    }\n",
       "\n",
       "    .dataframe tbody tr th {\n",
       "        vertical-align: top;\n",
       "    }\n",
       "\n",
       "    .dataframe thead th {\n",
       "        text-align: right;\n",
       "    }\n",
       "</style>\n",
       "<table border=\"1\" class=\"dataframe\">\n",
       "  <thead>\n",
       "    <tr style=\"text-align: right;\">\n",
       "      <th></th>\n",
       "      <th>specification</th>\n",
       "      <th>test_case_1</th>\n",
       "      <th>test_case_2</th>\n",
       "      <th>test_case_3</th>\n",
       "    </tr>\n",
       "  </thead>\n",
       "  <tbody>\n",
       "    <tr>\n",
       "      <th>0</th>\n",
       "      <td>Write a Coq function to remove first and last ...</td>\n",
       "      <td>remove_Occ(\"hello\",\"l\") = \"heo\"</td>\n",
       "      <td>remove_Occ(\"abcda\",\"a\") = \"bcd\"</td>\n",
       "      <td>remove_Occ(\"PHP\",\"P\") = \"H\"</td>\n",
       "    </tr>\n",
       "    <tr>\n",
       "      <th>1</th>\n",
       "      <td>Write a function to sort a given matrix in asc...</td>\n",
       "      <td>sort_matrix([[1, 2, 3], [2, 4, 5], [1, 1, 1]])...</td>\n",
       "      <td>sort_matrix([[1, 2, 3], [-2, 4, -5], [1, -1, 1...</td>\n",
       "      <td>sort_matrix([[5,8,9],[6,4,3],[2,1,4]])=[[2, 1,...</td>\n",
       "    </tr>\n",
       "    <tr>\n",
       "      <th>2</th>\n",
       "      <td>Write a function to count the most common word...</td>\n",
       "      <td>count_common(['red','green','black','pink','bl...</td>\n",
       "      <td>count_common(['one', 'two', 'three', 'four', '...</td>\n",
       "      <td>count_common(['Facebook', 'Apple', 'Amazon', '...</td>\n",
       "    </tr>\n",
       "    <tr>\n",
       "      <th>3</th>\n",
       "      <td>Write a Coq function to find the volume of a t...</td>\n",
       "      <td>find_Volume(10,8,6) = 240</td>\n",
       "      <td>find_Volume(3,2,2) = 6</td>\n",
       "      <td>find_Volume(1,2,1) = 1</td>\n",
       "    </tr>\n",
       "    <tr>\n",
       "      <th>4</th>\n",
       "      <td>Write a function to split a string at lowercas...</td>\n",
       "      <td>split_lowerstring(\"AbCd\")=['bC','d']</td>\n",
       "      <td>split_lowerstring(\"Python\")=['y', 't', 'h', 'o...</td>\n",
       "      <td>split_lowerstring(\"Programming\")=['r', 'o', 'g...</td>\n",
       "    </tr>\n",
       "  </tbody>\n",
       "</table>\n",
       "</div>"
      ],
      "text/plain": [
       "                                       specification   \n",
       "0  Write a Coq function to remove first and last ...  \\\n",
       "1  Write a function to sort a given matrix in asc...   \n",
       "2  Write a function to count the most common word...   \n",
       "3  Write a Coq function to find the volume of a t...   \n",
       "4  Write a function to split a string at lowercas...   \n",
       "\n",
       "                                         test_case_1   \n",
       "0                    remove_Occ(\"hello\",\"l\") = \"heo\"  \\\n",
       "1  sort_matrix([[1, 2, 3], [2, 4, 5], [1, 1, 1]])...   \n",
       "2  count_common(['red','green','black','pink','bl...   \n",
       "3                          find_Volume(10,8,6) = 240   \n",
       "4               split_lowerstring(\"AbCd\")=['bC','d']   \n",
       "\n",
       "                                         test_case_2   \n",
       "0                    remove_Occ(\"abcda\",\"a\") = \"bcd\"  \\\n",
       "1  sort_matrix([[1, 2, 3], [-2, 4, -5], [1, -1, 1...   \n",
       "2  count_common(['one', 'two', 'three', 'four', '...   \n",
       "3                             find_Volume(3,2,2) = 6   \n",
       "4  split_lowerstring(\"Python\")=['y', 't', 'h', 'o...   \n",
       "\n",
       "                                         test_case_3  \n",
       "0                        remove_Occ(\"PHP\",\"P\") = \"H\"  \n",
       "1  sort_matrix([[5,8,9],[6,4,3],[2,1,4]])=[[2, 1,...  \n",
       "2  count_common(['Facebook', 'Apple', 'Amazon', '...  \n",
       "3                             find_Volume(1,2,1) = 1  \n",
       "4  split_lowerstring(\"Programming\")=['r', 'o', 'g...  "
      ]
     },
     "execution_count": 24,
     "metadata": {},
     "output_type": "execute_result"
    }
   ],
   "source": [
    "# format the test df such that it uses the same format as the coqllm dataset\n",
    "mbpp_test_df[['test_case_1', 'test_case_2', 'test_case_3']] = mbpp_test_df['test_list'].apply(\n",
    "    lambda x: pd.Series(x[:3] + [None] * max(0, 3 - len(x)))\n",
    ")\n",
    "mbpp_test_coq = mbpp_test_df[['text', 'test_case_1', 'test_case_2', 'test_case_3']]\n",
    "mbpp_test_coq = mbpp_test_coq.rename(columns={'text': 'specification'})\n",
    "# remove \"assert\" statements from the test cases\n",
    "test_case_columns = ['test_case_1', 'test_case_2', 'test_case_3']\n",
    "def remove_asserts(text):\n",
    "    if text is None:\n",
    "        return None\n",
    "    return text.replace('assert ', '')\n",
    "def fix_equals(text):\n",
    "    if text is None:\n",
    "        return None\n",
    "    return text.replace('==', '=')\n",
    "def change_language(text):\n",
    "    if text is None:\n",
    "        return None\n",
    "    return text.replace('Write a python function', 'Write a Coq function')\n",
    "\n",
    "mbpp_test_coq[test_case_columns] = mbpp_test_coq[test_case_columns].applymap(remove_asserts)\n",
    "mbpp_test_coq[test_case_columns] = mbpp_test_coq[test_case_columns].applymap(fix_equals)\n",
    "mbpp_test_coq[['specification']] = mbpp_test_coq[['specification']].applymap(change_language)\n",
    "\n",
    "mbpp_test_coq.head()\n"
   ]
  },
  {
   "cell_type": "code",
   "execution_count": 25,
   "metadata": {},
   "outputs": [],
   "source": [
    "mbpp_test_coq.to_csv('MBPP_Coq_Test.csv', index=False)"
   ]
  },
  {
   "cell_type": "code",
   "execution_count": null,
   "metadata": {},
   "outputs": [],
   "source": []
  }
 ],
 "metadata": {
  "kernelspec": {
   "display_name": "python3.9",
   "language": "python",
   "name": "python3"
  },
  "language_info": {
   "codemirror_mode": {
    "name": "ipython",
    "version": 3
   },
   "file_extension": ".py",
   "mimetype": "text/x-python",
   "name": "python",
   "nbconvert_exporter": "python",
   "pygments_lexer": "ipython3",
   "version": "3.9.16"
  },
  "orig_nbformat": 4
 },
 "nbformat": 4,
 "nbformat_minor": 2
}
