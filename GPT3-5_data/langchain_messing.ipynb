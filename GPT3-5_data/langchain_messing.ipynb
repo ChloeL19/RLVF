{
 "cells": [
  {
   "cell_type": "code",
   "execution_count": 13,
   "metadata": {},
   "outputs": [],
   "source": [
    "from langchain.chains.conversation.memory import ConversationBufferWindowMemory\n",
    "from langchain import OpenAI\n",
    "from langchain.chains import ConversationChain\n",
    "import yaml\n",
    "import os\n",
    "from langchain.prompts.prompt import PromptTemplate"
   ]
  },
  {
   "cell_type": "code",
   "execution_count": 7,
   "metadata": {},
   "outputs": [],
   "source": [
    "with open('../config.yaml', 'r') as file:\n",
    "    config = yaml.safe_load(file)\n",
    "\n",
    "os.environ['OPENAI_API_KEY'] = config[\"API_KEY\"]"
   ]
  },
  {
   "cell_type": "code",
   "execution_count": 8,
   "metadata": {},
   "outputs": [],
   "source": [
    "llm = OpenAI(model_name='gpt-3.5-turbo', \n",
    "             temperature=0, \n",
    "             max_tokens = 256)"
   ]
  },
  {
   "cell_type": "code",
   "execution_count": 9,
   "metadata": {},
   "outputs": [],
   "source": [
    "window_memory = ConversationBufferWindowMemory(k=2)"
   ]
  },
  {
   "cell_type": "code",
   "execution_count": 16,
   "metadata": {},
   "outputs": [
    {
     "ename": "IndexError",
     "evalue": "tuple index out of range",
     "output_type": "error",
     "traceback": [
      "\u001b[0;31m---------------------------------------------------------------------------\u001b[0m",
      "\u001b[0;31mIndexError\u001b[0m                                Traceback (most recent call last)",
      "\u001b[1;32m/n/home09/cloughridge/RLVF/GPT3-5_data/langchain_messing.ipynb Cell 5\u001b[0m in \u001b[0;36m<cell line: 89>\u001b[0;34m()\u001b[0m\n\u001b[1;32m      <a href='vscode-notebook-cell://ssh-remote%2Bfasrc/n/home09/cloughridge/RLVF/GPT3-5_data/langchain_messing.ipynb#W6sdnNjb2RlLXJlbW90ZQ%3D%3D?line=0'>1</a>\u001b[0m systemText \u001b[39m=\u001b[39m \u001b[39m\"\"\"\u001b[39m\u001b[39m You are an AI assistant helping users write Coq code in order to implement given function specifications. \u001b[39m\n\u001b[1;32m      <a href='vscode-notebook-cell://ssh-remote%2Bfasrc/n/home09/cloughridge/RLVF/GPT3-5_data/langchain_messing.ipynb#W6sdnNjb2RlLXJlbW90ZQ%3D%3D?line=1'>2</a>\u001b[0m \u001b[39m1. The program you write should only contain Coq code in response to the given function specification. \u001b[39m\n\u001b[1;32m      <a href='vscode-notebook-cell://ssh-remote%2Bfasrc/n/home09/cloughridge/RLVF/GPT3-5_data/langchain_messing.ipynb#W6sdnNjb2RlLXJlbW90ZQ%3D%3D?line=2'>3</a>\u001b[0m \u001b[39m3. Any step-by-step reasoning that is not Coq code should be written as a comment.\u001b[39m\n\u001b[0;32m   (...)\u001b[0m\n\u001b[1;32m     <a href='vscode-notebook-cell://ssh-remote%2Bfasrc/n/home09/cloughridge/RLVF/GPT3-5_data/langchain_messing.ipynb#W6sdnNjb2RlLXJlbW90ZQ%3D%3D?line=85'>86</a>\u001b[0m \u001b[39m{ai}\u001b[39;00m\n\u001b[1;32m     <a href='vscode-notebook-cell://ssh-remote%2Bfasrc/n/home09/cloughridge/RLVF/GPT3-5_data/langchain_messing.ipynb#W6sdnNjb2RlLXJlbW90ZQ%3D%3D?line=86'>87</a>\u001b[0m \u001b[39m\"\"\"\u001b[39m\n\u001b[0;32m---> <a href='vscode-notebook-cell://ssh-remote%2Bfasrc/n/home09/cloughridge/RLVF/GPT3-5_data/langchain_messing.ipynb#W6sdnNjb2RlLXJlbW90ZQ%3D%3D?line=88'>89</a>\u001b[0m sysprompt \u001b[39m=\u001b[39m PromptTemplate(\n\u001b[1;32m     <a href='vscode-notebook-cell://ssh-remote%2Bfasrc/n/home09/cloughridge/RLVF/GPT3-5_data/langchain_messing.ipynb#W6sdnNjb2RlLXJlbW90ZQ%3D%3D?line=89'>90</a>\u001b[0m     input_variables\u001b[39m=\u001b[39;49m[\u001b[39m\"\u001b[39;49m\u001b[39minput\u001b[39;49m\u001b[39m\"\u001b[39;49m, \u001b[39m\"\u001b[39;49m\u001b[39mai\u001b[39;49m\u001b[39m\"\u001b[39;49m], template\u001b[39m=\u001b[39;49msystemText\n\u001b[1;32m     <a href='vscode-notebook-cell://ssh-remote%2Bfasrc/n/home09/cloughridge/RLVF/GPT3-5_data/langchain_messing.ipynb#W6sdnNjb2RlLXJlbW90ZQ%3D%3D?line=90'>91</a>\u001b[0m )\n",
      "File \u001b[0;32m~/.conda/envs/gpt-neo/lib/python3.10/site-packages/pydantic/main.py:339\u001b[0m, in \u001b[0;36mpydantic.main.BaseModel.__init__\u001b[0;34m()\u001b[0m\n",
      "File \u001b[0;32m~/.conda/envs/gpt-neo/lib/python3.10/site-packages/pydantic/main.py:1102\u001b[0m, in \u001b[0;36mpydantic.main.validate_model\u001b[0;34m()\u001b[0m\n",
      "File \u001b[0;32m~/.conda/envs/gpt-neo/lib/python3.10/site-packages/langchain/prompts/prompt.py:73\u001b[0m, in \u001b[0;36mPromptTemplate.template_is_valid\u001b[0;34m(cls, values)\u001b[0m\n\u001b[1;32m     71\u001b[0m \u001b[39mif\u001b[39;00m values[\u001b[39m\"\u001b[39m\u001b[39mvalidate_template\u001b[39m\u001b[39m\"\u001b[39m]:\n\u001b[1;32m     72\u001b[0m     all_inputs \u001b[39m=\u001b[39m values[\u001b[39m\"\u001b[39m\u001b[39minput_variables\u001b[39m\u001b[39m\"\u001b[39m] \u001b[39m+\u001b[39m \u001b[39mlist\u001b[39m(values[\u001b[39m\"\u001b[39m\u001b[39mpartial_variables\u001b[39m\u001b[39m\"\u001b[39m])\n\u001b[0;32m---> 73\u001b[0m     check_valid_template(\n\u001b[1;32m     74\u001b[0m         values[\u001b[39m\"\u001b[39;49m\u001b[39mtemplate\u001b[39;49m\u001b[39m\"\u001b[39;49m], values[\u001b[39m\"\u001b[39;49m\u001b[39mtemplate_format\u001b[39;49m\u001b[39m\"\u001b[39;49m], all_inputs\n\u001b[1;32m     75\u001b[0m     )\n\u001b[1;32m     76\u001b[0m \u001b[39mreturn\u001b[39;00m values\n",
      "File \u001b[0;32m~/.conda/envs/gpt-neo/lib/python3.10/site-packages/langchain/prompts/base.py:83\u001b[0m, in \u001b[0;36mcheck_valid_template\u001b[0;34m(template, template_format, input_variables)\u001b[0m\n\u001b[1;32m     81\u001b[0m \u001b[39mtry\u001b[39;00m:\n\u001b[1;32m     82\u001b[0m     validator_func \u001b[39m=\u001b[39m DEFAULT_VALIDATOR_MAPPING[template_format]\n\u001b[0;32m---> 83\u001b[0m     validator_func(template, input_variables)\n\u001b[1;32m     84\u001b[0m \u001b[39mexcept\u001b[39;00m \u001b[39mKeyError\u001b[39;00m \u001b[39mas\u001b[39;00m e:\n\u001b[1;32m     85\u001b[0m     \u001b[39mraise\u001b[39;00m \u001b[39mValueError\u001b[39;00m(\n\u001b[1;32m     86\u001b[0m         \u001b[39m\"\u001b[39m\u001b[39mInvalid prompt schema; check for mismatched or missing input parameters. \u001b[39m\u001b[39m\"\u001b[39m\n\u001b[1;32m     87\u001b[0m         \u001b[39m+\u001b[39m \u001b[39mstr\u001b[39m(e)\n\u001b[1;32m     88\u001b[0m     )\n",
      "File \u001b[0;32m~/.conda/envs/gpt-neo/lib/python3.10/site-packages/langchain/formatting.py:35\u001b[0m, in \u001b[0;36mStrictFormatter.validate_input_variables\u001b[0;34m(self, format_string, input_variables)\u001b[0m\n\u001b[1;32m     31\u001b[0m \u001b[39mdef\u001b[39;00m \u001b[39mvalidate_input_variables\u001b[39m(\n\u001b[1;32m     32\u001b[0m     \u001b[39mself\u001b[39m, format_string: \u001b[39mstr\u001b[39m, input_variables: List[\u001b[39mstr\u001b[39m]\n\u001b[1;32m     33\u001b[0m ) \u001b[39m-\u001b[39m\u001b[39m>\u001b[39m \u001b[39mNone\u001b[39;00m:\n\u001b[1;32m     34\u001b[0m     dummy_inputs \u001b[39m=\u001b[39m {input_variable: \u001b[39m\"\u001b[39m\u001b[39mfoo\u001b[39m\u001b[39m\"\u001b[39m \u001b[39mfor\u001b[39;00m input_variable \u001b[39min\u001b[39;00m input_variables}\n\u001b[0;32m---> 35\u001b[0m     \u001b[39msuper\u001b[39;49m()\u001b[39m.\u001b[39;49mformat(format_string, \u001b[39m*\u001b[39;49m\u001b[39m*\u001b[39;49mdummy_inputs)\n",
      "File \u001b[0;32m~/.conda/envs/gpt-neo/lib/python3.10/string.py:161\u001b[0m, in \u001b[0;36mFormatter.format\u001b[0;34m(self, format_string, *args, **kwargs)\u001b[0m\n\u001b[1;32m    160\u001b[0m \u001b[39mdef\u001b[39;00m \u001b[39mformat\u001b[39m(\u001b[39mself\u001b[39m, format_string, \u001b[39m/\u001b[39m, \u001b[39m*\u001b[39margs, \u001b[39m*\u001b[39m\u001b[39m*\u001b[39mkwargs):\n\u001b[0;32m--> 161\u001b[0m     \u001b[39mreturn\u001b[39;00m \u001b[39mself\u001b[39;49m\u001b[39m.\u001b[39;49mvformat(format_string, args, kwargs)\n",
      "File \u001b[0;32m~/.conda/envs/gpt-neo/lib/python3.10/site-packages/langchain/formatting.py:29\u001b[0m, in \u001b[0;36mStrictFormatter.vformat\u001b[0;34m(self, format_string, args, kwargs)\u001b[0m\n\u001b[1;32m     24\u001b[0m \u001b[39mif\u001b[39;00m \u001b[39mlen\u001b[39m(args) \u001b[39m>\u001b[39m \u001b[39m0\u001b[39m:\n\u001b[1;32m     25\u001b[0m     \u001b[39mraise\u001b[39;00m \u001b[39mValueError\u001b[39;00m(\n\u001b[1;32m     26\u001b[0m         \u001b[39m\"\u001b[39m\u001b[39mNo arguments should be provided, \u001b[39m\u001b[39m\"\u001b[39m\n\u001b[1;32m     27\u001b[0m         \u001b[39m\"\u001b[39m\u001b[39meverything should be passed as keyword arguments.\u001b[39m\u001b[39m\"\u001b[39m\n\u001b[1;32m     28\u001b[0m     )\n\u001b[0;32m---> 29\u001b[0m \u001b[39mreturn\u001b[39;00m \u001b[39msuper\u001b[39;49m()\u001b[39m.\u001b[39;49mvformat(format_string, args, kwargs)\n",
      "File \u001b[0;32m~/.conda/envs/gpt-neo/lib/python3.10/string.py:165\u001b[0m, in \u001b[0;36mFormatter.vformat\u001b[0;34m(self, format_string, args, kwargs)\u001b[0m\n\u001b[1;32m    163\u001b[0m \u001b[39mdef\u001b[39;00m \u001b[39mvformat\u001b[39m(\u001b[39mself\u001b[39m, format_string, args, kwargs):\n\u001b[1;32m    164\u001b[0m     used_args \u001b[39m=\u001b[39m \u001b[39mset\u001b[39m()\n\u001b[0;32m--> 165\u001b[0m     result, _ \u001b[39m=\u001b[39m \u001b[39mself\u001b[39;49m\u001b[39m.\u001b[39;49m_vformat(format_string, args, kwargs, used_args, \u001b[39m2\u001b[39;49m)\n\u001b[1;32m    166\u001b[0m     \u001b[39mself\u001b[39m\u001b[39m.\u001b[39mcheck_unused_args(used_args, args, kwargs)\n\u001b[1;32m    167\u001b[0m     \u001b[39mreturn\u001b[39;00m result\n",
      "File \u001b[0;32m~/.conda/envs/gpt-neo/lib/python3.10/string.py:205\u001b[0m, in \u001b[0;36mFormatter._vformat\u001b[0;34m(self, format_string, args, kwargs, used_args, recursion_depth, auto_arg_index)\u001b[0m\n\u001b[1;32m    201\u001b[0m     auto_arg_index \u001b[39m=\u001b[39m \u001b[39mFalse\u001b[39;00m\n\u001b[1;32m    203\u001b[0m \u001b[39m# given the field_name, find the object it references\u001b[39;00m\n\u001b[1;32m    204\u001b[0m \u001b[39m#  and the argument it came from\u001b[39;00m\n\u001b[0;32m--> 205\u001b[0m obj, arg_used \u001b[39m=\u001b[39m \u001b[39mself\u001b[39;49m\u001b[39m.\u001b[39;49mget_field(field_name, args, kwargs)\n\u001b[1;32m    206\u001b[0m used_args\u001b[39m.\u001b[39madd(arg_used)\n\u001b[1;32m    208\u001b[0m \u001b[39m# do any conversion on the resulting object\u001b[39;00m\n",
      "File \u001b[0;32m~/.conda/envs/gpt-neo/lib/python3.10/string.py:270\u001b[0m, in \u001b[0;36mFormatter.get_field\u001b[0;34m(self, field_name, args, kwargs)\u001b[0m\n\u001b[1;32m    267\u001b[0m \u001b[39mdef\u001b[39;00m \u001b[39mget_field\u001b[39m(\u001b[39mself\u001b[39m, field_name, args, kwargs):\n\u001b[1;32m    268\u001b[0m     first, rest \u001b[39m=\u001b[39m _string\u001b[39m.\u001b[39mformatter_field_name_split(field_name)\n\u001b[0;32m--> 270\u001b[0m     obj \u001b[39m=\u001b[39m \u001b[39mself\u001b[39;49m\u001b[39m.\u001b[39;49mget_value(first, args, kwargs)\n\u001b[1;32m    272\u001b[0m     \u001b[39m# loop through the rest of the field_name, doing\u001b[39;00m\n\u001b[1;32m    273\u001b[0m     \u001b[39m#  getattr or getitem as needed\u001b[39;00m\n\u001b[1;32m    274\u001b[0m     \u001b[39mfor\u001b[39;00m is_attr, i \u001b[39min\u001b[39;00m rest:\n",
      "File \u001b[0;32m~/.conda/envs/gpt-neo/lib/python3.10/string.py:225\u001b[0m, in \u001b[0;36mFormatter.get_value\u001b[0;34m(self, key, args, kwargs)\u001b[0m\n\u001b[1;32m    223\u001b[0m \u001b[39mdef\u001b[39;00m \u001b[39mget_value\u001b[39m(\u001b[39mself\u001b[39m, key, args, kwargs):\n\u001b[1;32m    224\u001b[0m     \u001b[39mif\u001b[39;00m \u001b[39misinstance\u001b[39m(key, \u001b[39mint\u001b[39m):\n\u001b[0;32m--> 225\u001b[0m         \u001b[39mreturn\u001b[39;00m args[key]\n\u001b[1;32m    226\u001b[0m     \u001b[39melse\u001b[39;00m:\n\u001b[1;32m    227\u001b[0m         \u001b[39mreturn\u001b[39;00m kwargs[key]\n",
      "\u001b[0;31mIndexError\u001b[0m: tuple index out of range"
     ]
    }
   ],
   "source": [
    "systemText = \"\"\" You are an AI assistant helping users write Coq code in order to implement given function specifications. \n",
    "1. The program you write should only contain Coq code in response to the given function specification. \n",
    "3. Any step-by-step reasoning that is not Coq code should be written as a comment.\n",
    "3. As the user provides compiler feedback, modify and update the program accordingly and keep the variables and the general program structure consistent.\n",
    "4. In addition to implementing the function, give at least 2 properties as theorems with their proofs.\n",
    "\n",
    "The following are examples.\n",
    "\n",
    "Query from user:\n",
    "Write a function that creates a list of n elements. Test case 1: replicate 1 0 = []. Test case 2: replicate 1 2 = [1; 1]. \n",
    "\n",
    "Response from assistant:\n",
    "\\`\\`\\`\n",
    "Require Import Coq.Lists.List. \n",
    " Open Scope list_scope. \n",
    " Import ListNotations. \n",
    " Fixpoint replicate (x: X) (n: nat): list X := \n",
    " match n with \n",
    " | 0 => []\n",
    " | S n => x :: replicate x n \n",
    " end. \n",
    " Lemma example_replicate_0: replicate 1 0 = []. \n",
    " Proof. simpl. reflexivity. Qed.\n",
    " Lemma example_replicate_2: replicate 1 2 = [1; 1].\n",
    " Proof. simpl. reflexivity. Qed.\n",
    "\n",
    " Theorem replicate_length:\n",
    "\t forall n, length (replicate 1 n) = n.\n",
    " Proof. \n",
    " intros. \n",
    " induction n.\n",
    " - simpl. reflexivity. \n",
    " - simpl. rewrite IHn. reflexivity.\n",
    " Qed. \n",
    " Theorem replicate_length_any: \n",
    "\t forall (X: Type) (x: X) n, length (replicate x n) = n. \n",
    " Proof.\n",
    " intros. \n",
    " induction n.\n",
    " - simpl. reflexivity.\n",
    "- simpl. rewrite IHn. reflexivity.\n",
    " Qed.\n",
    "\\`\\`\\`\n",
    "\n",
    "Query from user:\n",
    "Your code produces an error in the line Fixpoint replicate (x: X) (n: nat): list X :=\\n{}Can you please explain what this error means? Let's think step by step. Please rewrite all code if you rewrite any code.\n",
    "File \\\"./ex.v\\\", line 4, characters 24-25:\\nError: The reference X was not found in the current environment.\n",
    "\n",
    "Response from assistant:\n",
    "\\`\\`\\`\n",
    "Require Import Coq.Lists.List. \n",
    " Open Scope list_scope. \n",
    " Import ListNotations. \n",
    " Fixpoint replicate '{X: Type'} (x: X) (n: nat): list X := \n",
    " match n with \n",
    " | 0 => []\n",
    " | S n => x :: replicate x n \n",
    " end. \n",
    " Lemma example_replicate_0: replicate 1 0 = []. \n",
    " Proof. simpl. reflexivity. Qed.\n",
    " Lemma example_replicate_2: replicate 1 2 = [1; 1].\n",
    " Proof. simpl. reflexivity. Qed.\n",
    "\n",
    " Theorem replicate_length:\n",
    "\t forall n, length (replicate 1 n) = n.\n",
    " Proof. \n",
    " intros. \n",
    " induction n.\n",
    " - simpl. reflexivity. \n",
    " - simpl. rewrite IHn. reflexivity.\n",
    " Qed. \n",
    " Theorem replicate_length_any: \n",
    "\t forall (X: Type) (x: X) n, length (replicate x n) = n. \n",
    " Proof.\n",
    " intros. \n",
    " induction n.\n",
    " - simpl. reflexivity.\n",
    "- simpl. rewrite IHn. reflexivity.\n",
    " Qed.\n",
    "\\`\\`\\`\n",
    "\n",
    "Query from user:\n",
    "{input}\n",
    "\n",
    "Response from assistant:\n",
    "{ai}\n",
    "\"\"\"\n",
    "\n",
    "sysprompt = PromptTemplate(\n",
    "    input_variables=[\"input\", \"ai\"], template=systemText\n",
    ")"
   ]
  },
  {
   "cell_type": "code",
   "execution_count": 12,
   "metadata": {},
   "outputs": [
    {
     "ename": "KeyError",
     "evalue": "'prompt'",
     "output_type": "error",
     "traceback": [
      "\u001b[0;31m---------------------------------------------------------------------------\u001b[0m",
      "\u001b[0;31mKeyError\u001b[0m                                  Traceback (most recent call last)",
      "\u001b[1;32m/n/home09/cloughridge/RLVF/GPT3-5_data/langchain_messing.ipynb Cell 6\u001b[0m in \u001b[0;36m<cell line: 1>\u001b[0;34m()\u001b[0m\n\u001b[0;32m----> <a href='vscode-notebook-cell://ssh-remote%2Bfasrc/n/home09/cloughridge/RLVF/GPT3-5_data/langchain_messing.ipynb#W4sdnNjb2RlLXJlbW90ZQ%3D%3D?line=0'>1</a>\u001b[0m conversation \u001b[39m=\u001b[39m ConversationChain(\n\u001b[1;32m      <a href='vscode-notebook-cell://ssh-remote%2Bfasrc/n/home09/cloughridge/RLVF/GPT3-5_data/langchain_messing.ipynb#W4sdnNjb2RlLXJlbW90ZQ%3D%3D?line=1'>2</a>\u001b[0m     llm\u001b[39m=\u001b[39;49mllm, \n\u001b[1;32m      <a href='vscode-notebook-cell://ssh-remote%2Bfasrc/n/home09/cloughridge/RLVF/GPT3-5_data/langchain_messing.ipynb#W4sdnNjb2RlLXJlbW90ZQ%3D%3D?line=2'>3</a>\u001b[0m     verbose\u001b[39m=\u001b[39;49m\u001b[39mTrue\u001b[39;49;00m, \n\u001b[1;32m      <a href='vscode-notebook-cell://ssh-remote%2Bfasrc/n/home09/cloughridge/RLVF/GPT3-5_data/langchain_messing.ipynb#W4sdnNjb2RlLXJlbW90ZQ%3D%3D?line=3'>4</a>\u001b[0m     memory\u001b[39m=\u001b[39;49mwindow_memory,\n\u001b[1;32m      <a href='vscode-notebook-cell://ssh-remote%2Bfasrc/n/home09/cloughridge/RLVF/GPT3-5_data/langchain_messing.ipynb#W4sdnNjb2RlLXJlbW90ZQ%3D%3D?line=4'>5</a>\u001b[0m     prompt\u001b[39m=\u001b[39;49msystemText\n\u001b[1;32m      <a href='vscode-notebook-cell://ssh-remote%2Bfasrc/n/home09/cloughridge/RLVF/GPT3-5_data/langchain_messing.ipynb#W4sdnNjb2RlLXJlbW90ZQ%3D%3D?line=5'>6</a>\u001b[0m )\n",
      "File \u001b[0;32m~/.conda/envs/gpt-neo/lib/python3.10/site-packages/pydantic/main.py:339\u001b[0m, in \u001b[0;36mpydantic.main.BaseModel.__init__\u001b[0;34m()\u001b[0m\n",
      "File \u001b[0;32m~/.conda/envs/gpt-neo/lib/python3.10/site-packages/pydantic/main.py:1102\u001b[0m, in \u001b[0;36mpydantic.main.validate_model\u001b[0;34m()\u001b[0m\n",
      "File \u001b[0;32m~/.conda/envs/gpt-neo/lib/python3.10/site-packages/langchain/chains/conversation/base.py:52\u001b[0m, in \u001b[0;36mConversationChain.validate_prompt_input_variables\u001b[0;34m(cls, values)\u001b[0m\n\u001b[1;32m     47\u001b[0m \u001b[39mif\u001b[39;00m input_key \u001b[39min\u001b[39;00m memory_keys:\n\u001b[1;32m     48\u001b[0m     \u001b[39mraise\u001b[39;00m \u001b[39mValueError\u001b[39;00m(\n\u001b[1;32m     49\u001b[0m         \u001b[39mf\u001b[39m\u001b[39m\"\u001b[39m\u001b[39mThe input key \u001b[39m\u001b[39m{\u001b[39;00minput_key\u001b[39m}\u001b[39;00m\u001b[39m was also found in the memory keys \u001b[39m\u001b[39m\"\u001b[39m\n\u001b[1;32m     50\u001b[0m         \u001b[39mf\u001b[39m\u001b[39m\"\u001b[39m\u001b[39m(\u001b[39m\u001b[39m{\u001b[39;00mmemory_keys\u001b[39m}\u001b[39;00m\u001b[39m) - please provide keys that don\u001b[39m\u001b[39m'\u001b[39m\u001b[39mt overlap.\u001b[39m\u001b[39m\"\u001b[39m\n\u001b[1;32m     51\u001b[0m     )\n\u001b[0;32m---> 52\u001b[0m prompt_variables \u001b[39m=\u001b[39m values[\u001b[39m\"\u001b[39;49m\u001b[39mprompt\u001b[39;49m\u001b[39m\"\u001b[39;49m]\u001b[39m.\u001b[39minput_variables\n\u001b[1;32m     53\u001b[0m expected_keys \u001b[39m=\u001b[39m memory_keys \u001b[39m+\u001b[39m [input_key]\n\u001b[1;32m     54\u001b[0m \u001b[39mif\u001b[39;00m \u001b[39mset\u001b[39m(expected_keys) \u001b[39m!=\u001b[39m \u001b[39mset\u001b[39m(prompt_variables):\n",
      "\u001b[0;31mKeyError\u001b[0m: 'prompt'"
     ]
    }
   ],
   "source": [
    "conversation = ConversationChain(\n",
    "    llm=llm, \n",
    "    verbose=True, \n",
    "    memory=window_memory,\n",
    "    prompt=systemText\n",
    ")"
   ]
  },
  {
   "cell_type": "code",
   "execution_count": null,
   "metadata": {},
   "outputs": [],
   "source": []
  }
 ],
 "metadata": {
  "kernelspec": {
   "display_name": "gpt-neo",
   "language": "python",
   "name": "python3"
  },
  "language_info": {
   "codemirror_mode": {
    "name": "ipython",
    "version": 3
   },
   "file_extension": ".py",
   "mimetype": "text/x-python",
   "name": "python",
   "nbconvert_exporter": "python",
   "pygments_lexer": "ipython3",
   "version": "3.10.10"
  },
  "orig_nbformat": 4
 },
 "nbformat": 4,
 "nbformat_minor": 2
}
